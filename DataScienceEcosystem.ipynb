{
 "cells": [
  {
   "cell_type": "markdown",
   "id": "1e73f628-6b8c-46ab-99a6-e42e63f73212",
   "metadata": {},
   "source": [
    "# Data Science Tools and Ecosystem"
   ]
  },
  {
   "cell_type": "markdown",
   "id": "64ef6af0-ddf3-4005-b6e7-3c519bc375e4",
   "metadata": {},
   "source": [
    "In this notebook, Data Science Tools and Ecosystem are summarized."
   ]
  },
  {
   "cell_type": "markdown",
   "id": "b918893a-e309-404e-adbd-b9d63f516ac5",
   "metadata": {},
   "source": [
    "**Objectives**\n",
    " : List popular languages for Data Science : \n",
    "+ Python\n",
    "+ R\n",
    "+ SQL"
   ]
  },
  {
   "cell_type": "markdown",
   "id": "3fa361ea-6683-4bae-ba25-448405c7837a",
   "metadata": {},
   "source": [
    "Some of the popular languages that Data Scientists use are:\n",
    "1. R\n",
    "2. Python\n",
    "3. SQL"
   ]
  },
  {
   "cell_type": "markdown",
   "id": "a407128e-f436-4f7e-bdbd-5ceb2d3777cc",
   "metadata": {},
   "source": [
    "Some of the commonly used libraries used by Data Scientists include:\n",
    "1. Pandas\n",
    "2. Numpy\n",
    "3. Matplotib\n",
    "4. Scikit_learn\n",
    "5. GGlay\n",
    "6. ggplot"
   ]
  },
  {
   "cell_type": "markdown",
   "id": "4f428075-8c8c-4657-b87a-5b9710b698d2",
   "metadata": {},
   "source": [
    "| Data Science Tools |\n",
    "|-------------------------|\n",
    "| JupyterNotebook |\n",
    "| RStudio |\n",
    "| Vs Code |\n"
   ]
  },
  {
   "cell_type": "markdown",
   "id": "870ab974-0bf0-4d56-b477-92dec3de0282",
   "metadata": {},
   "source": [
    "### Below are a few examples of evaluating arithmetic expressions in Python"
   ]
  },
  {
   "cell_type": "code",
   "execution_count": 15,
   "id": "38c2f562-1b18-4159-944a-ff18958cf955",
   "metadata": {},
   "outputs": [
    {
     "data": {
      "text/plain": [
       "17"
      ]
     },
     "execution_count": 15,
     "metadata": {},
     "output_type": "execute_result"
    }
   ],
   "source": [
    "#This a simple arithmetic expression to mutiply then add integers \n",
    "(3*4)+5"
   ]
  },
  {
   "cell_type": "code",
   "execution_count": 19,
   "id": "d76e2ada-c76f-440b-8b52-6af74baddc69",
   "metadata": {},
   "outputs": [
    {
     "name": "stdout",
     "output_type": "stream",
     "text": [
      "200 minutes is 3.3333333333333335 hours\n"
     ]
    }
   ],
   "source": [
    "#This will convert 200 minutes to hours by diving by 60\n",
    "result = 200/60\n",
    "print(\"200 minutes is\",result,\"hours\")"
   ]
  },
  {
   "cell_type": "markdown",
   "id": "bb6397ae-e2fd-4cdc-96d8-d6b9da896a0a",
   "metadata": {},
   "source": [
    "## Author\n",
    "Farah MEGHINIF"
   ]
  },
  {
   "cell_type": "code",
   "execution_count": null,
   "id": "561b431b-a574-422a-8398-fb7be9d95cf1",
   "metadata": {},
   "outputs": [],
   "source": []
  }
 ],
 "metadata": {
  "kernelspec": {
   "display_name": "Python [conda env:base] *",
   "language": "python",
   "name": "conda-base-py"
  },
  "language_info": {
   "codemirror_mode": {
    "name": "ipython",
    "version": 3
   },
   "file_extension": ".py",
   "mimetype": "text/x-python",
   "name": "python",
   "nbconvert_exporter": "python",
   "pygments_lexer": "ipython3",
   "version": "3.12.7"
  }
 },
 "nbformat": 4,
 "nbformat_minor": 5
}
